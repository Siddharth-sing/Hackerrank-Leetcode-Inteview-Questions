i = 0
while i 
    print("i = ", i)
    for j in range(0,m):
        if nums2[i]<nums1[j]:
            nums1.insert(j,i)
            nums1.pop()
            nums2.remove(nums2[i])
            size=size+1
            print(nums2)
            i=i-1
            print("here i = ", i)
            break
        if j==size:
            for k in range(0,len(nums2)):
                nums1.pop()
            nums1 = nums1+nums2
            break
            
             
nums1
